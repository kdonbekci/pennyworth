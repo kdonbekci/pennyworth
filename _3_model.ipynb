{
 "cells": [
  {
   "cell_type": "code",
   "execution_count": 1,
   "metadata": {},
   "outputs": [],
   "source": [
    "from packages import *\n",
    "import numpy as np, matplotlib.pyplot as plt\n",
    "from datetime import datetime\n",
    "from tensorflow.keras import backend as K\n",
    "from tensorflow.keras import Model\n",
    "from tensorflow.keras.applications.inception_resnet_v2 import InceptionResNetV2, preprocess_input\n",
    "from tensorflow.keras.layers import Dropout, Dense, Flatten\n",
    "from tensorflow.keras.utils import plot_model\n",
    "from tensorflow.keras.optimizers import SGD\n",
    "from tensorflow.compat.v1 import ConfigProto\n",
    "from tensorflow.compat.v1 import InteractiveSession\n",
    "from tensorflow.keras.callbacks import TensorBoard\n",
    "%load_ext autoreload\n",
    "%autoreload 2"
   ]
  },
  {
   "cell_type": "code",
   "execution_count": 2,
   "metadata": {},
   "outputs": [],
   "source": [
    "K.set_floatx('float32')\n",
    "config = ConfigProto()\n",
    "config.gpu_options.allow_growth = True\n",
    "session = None\n",
    "if session is not None:\n",
    "    session.close()\n",
    "session = InteractiveSession(config=config)"
   ]
  },
  {
   "cell_type": "markdown",
   "metadata": {},
   "source": [
    "# Model"
   ]
  },
  {
   "cell_type": "code",
   "execution_count": 19,
   "metadata": {},
   "outputs": [],
   "source": [
    "class BaselineModel(Model):\n",
    "    def __init__(self, input_shape = INPUT_SHAPE,cat_type_units=3, cat_units=50, attr_units=1000):\n",
    "        super(BaselineModel, self).__init__()\n",
    "        self.inception_v4 = InceptionResNetV2(input_shape=INPUT_SHAPE,include_top=False, \n",
    "                                              weights='imagenet', pooling='avg')\n",
    "        self.inception_v4.trainable = False\n",
    "        self.dropout = Dropout(rate=.2)\n",
    "        self.flatten = Flatten()\n",
    "        self.cat_type = Dense(cat_type_units, activation='softmax', name='cat_type')\n",
    "        self.cat = Dense(cat_units, activation='softmax', name='cat')\n",
    "        self.attr = Dense(attr_units, activation='sigmoid', name='attr')\n",
    "        \n",
    "    def call(self, input_tensor, training=False):\n",
    "        x = self.inception_v4(input_tensor)\n",
    "        x = self.flatten(x)\n",
    "        x = self.dropout(x)\n",
    "        cat_type = self.cat_type(x)\n",
    "        cat = self.cat(x)\n",
    "        attr = self.attr(x)\n",
    "        return (cat_type, cat, attr)"
   ]
  },
  {
   "cell_type": "code",
   "execution_count": 4,
   "metadata": {},
   "outputs": [],
   "source": [
    "def generate_template(train=True, val=True, test=False):\n",
    "    dataset = {}\n",
    "    if train:\n",
    "        dataset['train'] = {'x': [], 'cat_type': [], 'cat': [], 'attr': []}\n",
    "    if val:\n",
    "        dataset['val'] = {'x': [], 'cat_type': [], 'cat': [], 'attr': []}\n",
    "    if test:\n",
    "        dataset['test'] = {'x': [], 'cat_type': [], 'cat': [], 'attr': []}\n",
    "    return dataset"
   ]
  },
  {
   "cell_type": "code",
   "execution_count": 5,
   "metadata": {},
   "outputs": [],
   "source": [
    "def load_dataset(dataset_dir, splits, train=True, val=True, test=False):\n",
    "    dataset=generate_template(train, val, test)\n",
    "    assert len(splits) > 0, 'splits cannot be empty'\n",
    "    i=0\n",
    "    for s in dataset:\n",
    "        s_dir = os.path.join(dataset_dir, s)\n",
    "        for split in splits:\n",
    "            dataset[s]['x'].append(np.load( os.path.join(s_dir, 'X', 'x_{}.npy'.format(split+1)),fix_imports=False, \n",
    "                                          allow_pickle=False))\n",
    "            dataset[s]['cat_type'].append(np.load( os.path.join(s_dir, 'cat_type', 'cat_type_{}.npy'.format(split+1)),fix_imports=False, \n",
    "                                          allow_pickle=False))\n",
    "            dataset[s]['cat'].append(np.load( os.path.join(s_dir, 'cat', 'cat_{}.npy'.format(split+1)),fix_imports=False, \n",
    "                                          allow_pickle=False))\n",
    "            dataset[s]['attr'].append(np.load( os.path.join(s_dir, 'attr', 'attr_{}.npy'.format(split+1)),fix_imports=False, \n",
    "                                          allow_pickle=False))\n",
    "            i+=1\n",
    "            print('*Loaded {} out of {}*'.format(i, len(splits) * len(dataset)), end=' ')\n",
    "        dataset[s]['x'] = np.concatenate(dataset[s]['x'])\n",
    "        dataset[s]['cat_type'] = np.concatenate(dataset[s]['cat_type']) - 1\n",
    "        dataset[s]['cat'] = np.concatenate(dataset[s]['cat']) -1\n",
    "        dataset[s]['attr'] = np.concatenate(dataset[s]['attr']) \n",
    "    return dataset"
   ]
  },
  {
   "cell_type": "code",
   "execution_count": 6,
   "metadata": {},
   "outputs": [],
   "source": [
    "model = Extractor()"
   ]
  },
  {
   "cell_type": "code",
   "execution_count": 7,
   "metadata": {},
   "outputs": [],
   "source": [
    "sgd = SGD(lr=0.01, decay=1e-6, momentum=0.9, nesterov=True)\n",
    "loss = ['sparse_categorical_crossentropy', 'sparse_categorical_crossentropy', 'binary_crossentropy']\n",
    "metrics = ['accuracy']\n",
    "model.compile(optimizer=sgd, loss=loss, metrics=metrics)"
   ]
  },
  {
   "cell_type": "code",
   "execution_count": 8,
   "metadata": {},
   "outputs": [
    {
     "name": "stdout",
     "output_type": "stream",
     "text": [
      "*Loaded 1 out of 6* *Loaded 2 out of 6* *Loaded 3 out of 6* *Loaded 4 out of 6* *Loaded 5 out of 6* *Loaded 6 out of 6* "
     ]
    }
   ],
   "source": [
    "splits = [1, 2, 3]\n",
    "dataset = load_dataset(DATASET_DIR, splits)"
   ]
  },
  {
   "cell_type": "code",
   "execution_count": 10,
   "metadata": {},
   "outputs": [],
   "source": [
    "x = dataset['train']['x']\n",
    "y = [dataset['train']['cat_type'], dataset['train']['cat'], dataset['train']['attr']]\n",
    "validation_data = (dataset['val']['x'], \n",
    "                   {'cat_type': dataset['val']['cat_type'], \n",
    "                    'cat': dataset['val']['cat'], \n",
    "                    'attr': dataset['val']['attr']}"
   ]
  },
  {
   "cell_type": "code",
   "execution_count": 11,
   "metadata": {},
   "outputs": [],
   "source": [
    "batch_size=64"
   ]
  },
  {
   "cell_type": "code",
   "execution_count": 12,
   "metadata": {},
   "outputs": [
    {
     "name": "stdout",
     "output_type": "stream",
     "text": [
      "Train on 62766 samples, validate on 12000 samples\n",
      "   64/62766 [..............................] - ETA: 3:55:19 - loss: 5.8164 - output_1_loss: 1.0879 - output_2_loss: 4.0142 - output_3_loss: 0.7143 - output_1_accuracy: 0.4688 - output_2_accuracy: 0.0312 - output_3_accuracy: 0.4951"
     ]
    },
    {
     "name": "stderr",
     "output_type": "stream",
     "text": [
      "WARNING: Logging before flag parsing goes to stderr.\n",
      "W0517 19:32:48.088760 139640623384384 callbacks.py:236] Method (on_train_batch_end) is slow compared to the batch update (1.107625). Check your callbacks.\n"
     ]
    },
    {
     "name": "stdout",
     "output_type": "stream",
     "text": [
      "62766/62766 [==============================] - 588s 9ms/sample - loss: 2.9065 - output_1_loss: 0.6228 - output_2_loss: 2.0086 - output_3_loss: 0.2751 - output_1_accuracy: 0.7410 - output_2_accuracy: 0.4367 - output_3_accuracy: 0.9619 - val_loss: 2.4682 - val_output_1_loss: 0.5467 - val_output_2_loss: 1.7988 - val_output_3_loss: 0.1228 - val_output_1_accuracy: 0.7788 - val_output_2_accuracy: 0.4833 - val_output_3_accuracy: 0.9967\n"
     ]
    }
   ],
   "source": [
    "plot_model"
   ]
  },
  {
   "cell_type": "markdown",
   "metadata": {},
   "source": [
    "## How did we do?\n",
    "Now that we have trained our model for 1 epoch, let's see how well we did by plotting some examples to unseen validation data."
   ]
  },
  {
   "cell_type": "code",
   "execution_count": 19,
   "metadata": {},
   "outputs": [],
   "source": [
    "cat_type_preds = np.argmax(preds[0], axis=1)"
   ]
  },
  {
   "cell_type": "code",
   "execution_count": 60,
   "metadata": {},
   "outputs": [],
   "source": [
    "cat_preds = np.argmax(preds[1], axis=1)"
   ]
  },
  {
   "cell_type": "code",
   "execution_count": 73,
   "metadata": {},
   "outputs": [],
   "source": [
    "attr = load_pickle(os.path.join(LINK_DIR, 'attr.pkl'))\n",
    "cat = load_pickle(os.path.join(LINK_DIR, 'cat.pkl'))\n",
    "cat_types = load_pickle(os.path.join(LINK_DIR, 'cat_types_str.pkl'))"
   ]
  },
  {
   "cell_type": "code",
   "execution_count": 98,
   "metadata": {},
   "outputs": [
    {
     "name": "stderr",
     "output_type": "stream",
     "text": [
      "W0517 18:37:56.858155 139854661814080 image.py:648] Clipping input data to the valid range for imshow with RGB data ([0..1] for floats or [0..255] for integers).\n"
     ]
    },
    {
     "name": "stdout",
     "output_type": "stream",
     "text": [
      "upper\n",
      "upper\n"
     ]
    },
    {
     "data": {
      "image/png": "[encoded data removed]",
      "text/plain": [
       "<Figure size 432x288 with 1 Axes>"
      ]
     },
     "metadata": {
      "needs_background": "light"
     },
     "output_type": "display_data"
    }
   ],
   "source": [
    "i = np.random.randint(0, len(dataset['val']['cat']))\n",
    "plt.imshow(dataset['val']['x'][i].astype(np.float32))\n",
    "print(cat_types[cat_type_preds[i]+1])\n",
    "print(cat_types[dataset['val']['cat_type'][i] + 1])"
   ]
  }
 ],
 "metadata": {
  "kernelspec": {
   "display_name": "cs231n_3.6",
   "language": "python",
   "name": "cs231n_3.6"
  },
  "language_info": {
   "codemirror_mode": {
    "name": "ipython",
    "version": 3
   },
   "file_extension": ".py",
   "mimetype": "text/x-python",
   "name": "python",
   "nbconvert_exporter": "python",
   "pygments_lexer": "ipython3",
   "version": "3.6.8"
  }
 },
 "nbformat": 4,
 "nbformat_minor": 2
}
