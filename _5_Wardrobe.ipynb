{
 "cells": [
  {
   "cell_type": "code",
   "execution_count": 1,
   "metadata": {},
   "outputs": [],
   "source": [
    "from packages import *\n",
    "%matplotlib inline\n",
    "import numpy as np, matplotlib.pyplot as plt\n",
    "from sklearn.cluster import KMeans"
   ]
  },
  {
   "cell_type": "markdown",
   "metadata": {},
   "source": [
    "# Wardrobe\n",
    "Here, we will run K-Means on the activations from the Extractor. The Wardrobe will then store future clothing activations w.r.t to the centroids it derived initially."
   ]
  },
  {
   "cell_type": "code",
   "execution_count": 27,
   "metadata": {},
   "outputs": [],
   "source": [
    "activations = np.load(os.path.join(ACTIVATIONS_DIR, 'activations_cat.npy'), allow_pickle=False)"
   ]
  },
  {
   "cell_type": "code",
   "execution_count": 28,
   "metadata": {},
   "outputs": [],
   "source": [
    "class Wardrobe:\n",
    "    def __init__(self, load_file=None, k=1000):\n",
    "        if load_file is None:\n",
    "            self.kmeans = KMeans(n_clusters=k, n_init=10, max_iter=300, n_jobs=10)\n",
    "        else:\n",
    "            self.kmeans = load_pickle(load_file)\n",
    "    \n",
    "    def update_centroids(self, activations):\n",
    "        pass\n",
    "        \n",
    "    def run_kmeans(self, activations):\n",
    "        '''\n",
    "        @args\n",
    "        k: int, determines number of clusters\n",
    "        activations: np.array, activation arrays of shape (num_samples, activation_dim)\n",
    "        @returns\n",
    "        centroids: np.array, centroids of the k many clusters of shape (k, activation_dim)\n",
    "        '''\n",
    "        transformed_acts = self.kmeans.fit_transform(X=activations)\n",
    "        return transformed_acts "
   ]
  },
  {
   "cell_type": "code",
   "execution_count": 29,
   "metadata": {},
   "outputs": [],
   "source": [
    "wardrobe = Wardrobe(k=1000)"
   ]
  },
  {
   "cell_type": "code",
   "execution_count": null,
   "metadata": {},
   "outputs": [],
   "source": [
    "transformed_acts = wardrobe.run_kmeans(activations=activations)"
   ]
  },
  {
   "cell_type": "code",
   "execution_count": null,
   "metadata": {},
   "outputs": [],
   "source": [
    "transformed_acts.shape"
   ]
  },
  {
   "cell_type": "code",
   "execution_count": null,
   "metadata": {},
   "outputs": [],
   "source": [
    "np.save(os.path.join(ACTIVATIONS_DIR, 'transformed_activations_cat.npy'), transformed_acts, allow_pickle=False)"
   ]
  },
  {
   "cell_type": "code",
   "execution_count": null,
   "metadata": {},
   "outputs": [],
   "source": [
    "save_pickle(wardrobe.kmeans, os.path.join(ACTIVATIONS_DIR, 'kmeans_cat.pkl'))"
   ]
  }
 ],
 "metadata": {
  "kernelspec": {
   "display_name": "pennyworth_3.6",
   "language": "python",
   "name": "pennyworth_3.6"
  },
  "language_info": {
   "codemirror_mode": {
    "name": "ipython",
    "version": 3
   },
   "file_extension": ".py",
   "mimetype": "text/x-python",
   "name": "python",
   "nbconvert_exporter": "python",
   "pygments_lexer": "ipython3",
   "version": "3.6.8"
  }
 },
 "nbformat": 4,
 "nbformat_minor": 2
}
