{
 "cells": [
  {
   "cell_type": "code",
   "execution_count": 1,
   "metadata": {},
   "outputs": [],
   "source": [
    "from packages import *\n",
    "import random, concurrent.futures, numpy as np, matplotlib.pyplot as plt\n",
    "from PIL import Image \n",
    "from tensorflow.keras.applications.inception_resnet_v2 import preprocess_input\n",
    "from collections import Counter\n",
    "%load_ext autoreload\n",
    "%autoreload 2"
   ]
  },
  {
   "cell_type": "code",
   "execution_count": 2,
   "metadata": {},
   "outputs": [],
   "source": [
    "# defaults for matplotlib plots\n",
    "plt.rcParams['figure.figsize'] = def_size = [6.0, 6.0]\n",
    "plt.rcParams['font.size'] = def_font = 10.0"
   ]
  },
  {
   "cell_type": "code",
   "execution_count": 3,
   "metadata": {},
   "outputs": [],
   "source": [
    "NUM_SPLITS = 10\n",
    "NUM_WORKERS = 20"
   ]
  },
  {
   "cell_type": "markdown",
   "metadata": {},
   "source": [
    "# Preprocessing\n",
    "Now that we have a intuitive way of accessing the images and their labels, we can go ahead and start the preprocessing pipeline.\n",
    "## Goals:\n",
    "* construct dataset\n",
    "    * fix the dimensions to VGG input layer\n",
    "    * normalize w.r.t. VGG initialization\n",
    "    * dump the dataset for persistence"
   ]
  },
  {
   "cell_type": "markdown",
   "metadata": {},
   "source": [
    "Let's begin by loading the actual images using the link dictionaries we created. For benchmarking purposes, we will also load the partition for the train/val/test splits."
   ]
  },
  {
   "cell_type": "code",
   "execution_count": 4,
   "metadata": {},
   "outputs": [],
   "source": [
    "partition = {}\n",
    "with open(os.path.join(DATA_DIR, 'DeepFashion', 'eval', 'list_eval_partition.txt'), 'r') as f:\n",
    "    for l in f.readlines()[2:]:\n",
    "        l = l.strip()\n",
    "        split = l[71:].strip()\n",
    "        _, folder, img_name = l[:71].strip().split('/')\n",
    "        if folder not in partition:\n",
    "            partition[folder] = {}\n",
    "        partition[folder][img_name] = split"
   ]
  },
  {
   "cell_type": "code",
   "execution_count": 5,
   "metadata": {},
   "outputs": [
    {
     "name": "stdout",
     "output_type": "stream",
     "text": [
      "Counter({'train': 209222, 'val': 40000, 'test': 40000})\n",
      "total: 289222\n",
      "train: 72.34%, val: 13.83%, test: 13.83%\n"
     ]
    }
   ],
   "source": [
    "splits = []\n",
    "for i in partition:\n",
    "    for j in partition[i]:\n",
    "        splits.append(partition[i][j]) \n",
    "c = Counter(splits)\n",
    "print(c)\n",
    "total = np.sum(list(c.values()))\n",
    "print('total: {}'.format(total))\n",
    "print('train: {:.2f}%, val: {:.2f}%, test: {:.2f}%'.format(100*c['train']/total, 100*c['val']/total, 100*c['test']/total))"
   ]
  },
  {
   "cell_type": "code",
   "execution_count": 6,
   "metadata": {},
   "outputs": [],
   "source": [
    "# save_pickle(partition, os.path.join(LINK_DIR, 'partition.pkl'))"
   ]
  },
  {
   "cell_type": "markdown",
   "metadata": {},
   "source": [
    "## Loading the images\n",
    "We will be loading the images for demonstration purposes, apply the normalization steps and explore data augmentations possibilities. For note, we will be using channel-last format. (H, W, C)\n",
    "\n",
    "First, we need to fix the dimensions of all of our images to (299, 299, 3) which is what the pre-trained Inception-v4 model expects."
   ]
  },
  {
   "cell_type": "code",
   "execution_count": 7,
   "metadata": {},
   "outputs": [],
   "source": [
    "def fix_dimensions(x, dim):\n",
    "    h, w, _ = x.shape\n",
    "    if h < dim and w < dim:\n",
    "        diff = dim - h\n",
    "        h_beg = diff // 2\n",
    "        h_end = diff - h_beg\n",
    "        new_x = np.zeros((dim, w, 3))\n",
    "        new_x[h_beg: -h_end:, :, :] = x\n",
    "        new_x[0:h_beg, :, :] = np.expand_dims(np.mean(x[0:5, : :], axis=0), 0)\n",
    "        new_x[-h_end:, :, :] = np.expand_dims(np.mean(x[-5:, :, :], axis=0 ), 0)\n",
    "        return fix_dimensions(new_x, dim)\n",
    "    elif h == dim and w < dim:\n",
    "        diff = dim - w\n",
    "        w_beg = diff//2\n",
    "        w_end = diff - w_beg\n",
    "        new_x = np.zeros((h, dim, 3))\n",
    "        new_x[:, w_beg:-w_end, :] = x\n",
    "        new_x[:,0: w_beg, :] = np.expand_dims(np.mean(x[:, 0:5, :], axis=1), 1)\n",
    "        new_x[:, -w_end:, :] = np.expand_dims(np.mean(x[:, -5:, :],axis=1), 1)\n",
    "    elif h < dim and w == dim:\n",
    "        diff = dim - h\n",
    "        h_beg = diff // 2\n",
    "        h_end = diff - h_beg\n",
    "        new_x = np.zeros((dim, w, 3))\n",
    "        new_x[h_beg: -h_end:, :, :] = x\n",
    "        new_x[0:h_beg, :, :] = np.expand_dims(np.mean(x[0:5, : :], axis=0), 0)\n",
    "        new_x[-h_end:, :, :] = np.expand_dims(np.mean(x[-5:, :, :], axis=0 ), 0)\n",
    "    else:\n",
    "        new_x = x\n",
    "    return new_x"
   ]
  },
  {
   "cell_type": "markdown",
   "metadata": {},
   "source": [
    "`` load_preprocess_img `` takes care of the loading and calling necessary functions needed in the preprocessing."
   ]
  },
  {
   "cell_type": "code",
   "execution_count": 8,
   "metadata": {},
   "outputs": [],
   "source": [
    "def load_preprocess_img(img_path):\n",
    "    img = np.asarray(Image.open(img_path))[:-5, :-5, :] #some data is actually larger than 300...\n",
    "    return fix_dimensions(preprocess_input(img), dim=299)"
   ]
  },
  {
   "cell_type": "markdown",
   "metadata": {},
   "source": [
    "`collapse_dict ` is here because earlier I had chose to maintain the folder structure of the images in my link dictionaries. We will no longer be needing those, so we can collapse that hierearchy."
   ]
  },
  {
   "cell_type": "code",
   "execution_count": 9,
   "metadata": {},
   "outputs": [],
   "source": [
    "def collapse_dict(lookup, img_dir=None):\n",
    "    new_lookup = {}\n",
    "    if img_dir is None:\n",
    "        for folder in lookup:\n",
    "            for img_name in lookup[folder]:\n",
    "                new_lookup['/'.join([folder,img_name])] = lookup[folder][img_name]\n",
    "    else:\n",
    "        for folder in lookup:\n",
    "            for img_name in lookup[folder]:\n",
    "                new_lookup['/'.join([img_dir,folder,img_name])] = lookup[folder][img_name]\n",
    "        \n",
    "    return new_lookup"
   ]
  },
  {
   "cell_type": "code",
   "execution_count": 10,
   "metadata": {},
   "outputs": [],
   "source": [
    "img_attr = collapse_dict(load_pickle(os.path.join(LINK_DIR, 'img_attr.pkl')), IMG_DIR)\n",
    "img_cat = collapse_dict(load_pickle(os.path.join(LINK_DIR, 'img_cat.pkl')), IMG_DIR)\n",
    "cat_types_inv = load_pickle(os.path.join(LINK_DIR, 'cat_types_inv.pkl'))\n",
    "partition = collapse_dict(partition, IMG_DIR)"
   ]
  },
  {
   "cell_type": "markdown",
   "metadata": {},
   "source": [
    "` load_deepfashion ` creates a datapoint from an image and its labels."
   ]
  },
  {
   "cell_type": "code",
   "execution_count": 11,
   "metadata": {},
   "outputs": [],
   "source": [
    "def load_deepfashion(img_path, partition_lookup=partition, attr_lookup=img_attr, \n",
    "                     cat_lookup=img_cat, cat_type_lookup=cat_types_inv):\n",
    "    x = load_preprocess_img(img_path).astype(np.float16) #will be using RTX2070 which supports f16\n",
    "    attr = (attr_lookup[img_path]>0).astype(np.int8) #transform the -1 +1 labeling to one-hot\n",
    "    cat = cat_lookup[img_path]\n",
    "    cat_type = cat_type_lookup[cat]\n",
    "    return x, attr, cat, cat_type"
   ]
  },
  {
   "cell_type": "markdown",
   "metadata": {},
   "source": [
    "` export_dataset ` automates the whole process and exports the datasets into their respective `train, val, test ` directories. A number of splits is used in order to make smaller chunks of data availabe for later use and avoid loading the whole dataset into RAM, which does not fit in my computer. "
   ]
  },
  {
   "cell_type": "code",
   "execution_count": 14,
   "metadata": {},
   "outputs": [],
   "source": [
    "def export_dataset(dataset_dir, split, num_splits = NUM_SPLITS):\n",
    "    for i in range(num_splits):\n",
    "        chunk = split[i: i+len(split)//num_splits]\n",
    "        with concurrent.futures.ProcessPoolExecutor(max_workers=NUM_WORKERS) as executor:\n",
    "            dataset = executor.map(load_deepfashion, chunk)\n",
    "        dataset = [d for d in dataset]\n",
    "        x, attr, cat, cat_type = [], [], [], []\n",
    "        for d in dataset:\n",
    "            assert d[0].shape == (299, 299, 3), d[0].shape\n",
    "            x.append(d[0])\n",
    "            attr.append(d[1])\n",
    "            cat.append(d[2])\n",
    "            cat_type.append(d[3])\n",
    "        np.save(os.path.join(dataset_dir, 'X', 'x_{}.npy'.format(i+1)), np.array(x), \n",
    "                fix_imports=False, allow_pickle=False)\n",
    "        np.save(os.path.join(dataset_dir, 'attr', 'attr_{}.npy'.format(i+1)), np.array(attr),\n",
    "                fix_imports=False, allow_pickle=False)\n",
    "        np.save(os.path.join(dataset_dir, 'cat', 'cat_{}.npy'.format(i+1)), np.array(cat),\n",
    "                fix_imports=False, allow_pickle=False)\n",
    "        np.save(os.path.join(dataset_dir, 'cat_type', 'cat_type_{}.npy'.format(i+1)), np.array(cat_type),\n",
    "                fix_imports=False, allow_pickle=False)\n",
    "        print('{}-done'.format(i+1), end=', ')"
   ]
  },
  {
   "cell_type": "markdown",
   "metadata": {},
   "source": [
    "Now that we have everything in place, we can start exporting the dataset!"
   ]
  },
  {
   "cell_type": "code",
   "execution_count": 13,
   "metadata": {},
   "outputs": [],
   "source": [
    "paths = {}\n",
    "paths['train'] = [f for f in list(partition.keys()) if partition[f] == 'train']\n",
    "paths['val'] = [f for f in list(partition.keys()) if partition[f] == 'val']\n",
    "paths['test'] = [f for f in list(partition.keys()) if partition[f] == 'test']\n",
    "random.shuffle(paths['train'])\n",
    "random.shuffle(paths['val'])\n",
    "random.shuffle(paths['test'])"
   ]
  },
  {
   "cell_type": "code",
   "execution_count": 15,
   "metadata": {},
   "outputs": [
    {
     "name": "stdout",
     "output_type": "stream",
     "text": [
      "began train data\n",
      "{}-done, {}-done, {}-done, {}-done, {}-done, {}-done, {}-done, {}-done, {}-done, {}-done, finished train data\n",
      "************************\n",
      "began val data\n",
      "{}-done, {}-done, {}-done, {}-done, {}-done, {}-done, {}-done, {}-done, {}-done, {}-done, finished val data\n",
      "************************\n",
      "began test data\n",
      "{}-done, {}-done, {}-done, {}-done, {}-done, {}-done, {}-done, {}-done, {}-done, {}-done, finished test data\n",
      "************************\n"
     ]
    }
   ],
   "source": [
    "for split in paths:\n",
    "    print('began {} data'.format(split))\n",
    "    export_dataset(os.path.join(DATASET_DIR, split), paths[split])\n",
    "    print('finished {} data'.format(split))\n",
    "    print('************************')"
   ]
  },
  {
   "cell_type": "markdown",
   "metadata": {},
   "source": [
    "## Checking everything worked out fine\n",
    "Let's print some examples from the dataset now to confirm everything worked out fine!"
   ]
  },
  {
   "cell_type": "code",
   "execution_count": 28,
   "metadata": {},
   "outputs": [],
   "source": [
    "attr = load_pickle(os.path.join(LINK_DIR, 'attr.pkl'))\n",
    "cat = load_pickle(os.path.join(LINK_DIR, 'cat.pkl'))\n",
    "cat_types = load_pickle(os.path.join(LINK_DIR, 'cat_types_str.pkl'))"
   ]
  },
  {
   "cell_type": "markdown",
   "metadata": {},
   "source": [
    "Pick a random split to import. (train takes a longer time so I took it out)"
   ]
  },
  {
   "cell_type": "code",
   "execution_count": 25,
   "metadata": {},
   "outputs": [
    {
     "name": "stdout",
     "output_type": "stream",
     "text": [
      "val, 3\n"
     ]
    }
   ],
   "source": [
    "split = random.choice(['val', 'test'])\n",
    "i = random.randint(1, NUM_SPLITS)\n",
    "print('{}, {}'.format(split, i))"
   ]
  },
  {
   "cell_type": "code",
   "execution_count": 29,
   "metadata": {},
   "outputs": [],
   "source": [
    "check_x = np.load(os.path.join(DATASET_DIR, split, 'X', 'x_{}.npy'.format(i)))\n",
    "check_attr = np.load(os.path.join(DATASET_DIR, split, 'attr', 'attr_{}.npy'.format(i)))\n",
    "check_cat = np.load(os.path.join(DATASET_DIR, split, 'cat', 'cat_{}.npy'.format(i)))\n",
    "check_cat_type = np.load(os.path.join(DATASET_DIR, split, \n",
    "                                      'cat_type', 'cat_type_{}.npy'.format(i)))"
   ]
  },
  {
   "cell_type": "code",
   "execution_count": 41,
   "metadata": {},
   "outputs": [
    {
     "name": "stderr",
     "output_type": "stream",
     "text": [
      "W0517 15:26:46.116734 140260802459456 image.py:648] Clipping input data to the valid range for imshow with RGB data ([0..1] for floats or [0..255] for integers).\n"
     ]
    },
    {
     "name": "stdout",
     "output_type": "stream",
     "text": [
      "upper\n",
      "Blazer\n",
      "['boyfriend' 'leather' 'red' 'relaxed' 'tweed']\n"
     ]
    },
    {
     "data": {
      "text/plain": [
       "<matplotlib.image.AxesImage at 0x7f90873ad198>"
      ]
     },
     "execution_count": 41,
     "metadata": {},
     "output_type": "execute_result"
    },
    {
     "data": {
      "image/png": "[encoded data removed]",
      "text/plain": [
       "<Figure size 432x432 with 1 Axes>"
      ]
     },
     "metadata": {
      "needs_background": "light"
     },
     "output_type": "display_data"
    }
   ],
   "source": [
    "j = random.randint(0, len(check_x))\n",
    "print(cat_types[check_cat_type[j]])\n",
    "print(cat[check_cat[j]])\n",
    "print(attr[np.where(check_attr[j]==1)])\n",
    "plt.imshow(check_x[j].astype(np.float32))"
   ]
  }
 ],
 "metadata": {
  "kernelspec": {
   "display_name": "cs231n_3.6",
   "language": "python",
   "name": "cs231n_3.6"
  },
  "language_info": {
   "codemirror_mode": {
    "name": "ipython",
    "version": 3
   },
   "file_extension": ".py",
   "mimetype": "text/x-python",
   "name": "python",
   "nbconvert_exporter": "python",
   "pygments_lexer": "ipython3",
   "version": "3.6.8"
  }
 },
 "nbformat": 4,
 "nbformat_minor": 2
}
